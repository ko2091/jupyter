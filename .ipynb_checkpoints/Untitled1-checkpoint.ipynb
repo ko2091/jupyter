{
 "cells": [
  {
   "cell_type": "code",
   "execution_count": 29,
   "metadata": {},
   "outputs": [
    {
     "data": {
      "text/html": [
       "<div>\n",
       "<style scoped>\n",
       "    .dataframe tbody tr th:only-of-type {\n",
       "        vertical-align: middle;\n",
       "    }\n",
       "\n",
       "    .dataframe tbody tr th {\n",
       "        vertical-align: top;\n",
       "    }\n",
       "\n",
       "    .dataframe thead th {\n",
       "        text-align: right;\n",
       "    }\n",
       "</style>\n",
       "<table border=\"1\" class=\"dataframe\">\n",
       "  <thead>\n",
       "    <tr style=\"text-align: right;\">\n",
       "      <th></th>\n",
       "      <th>sepal length (cm)</th>\n",
       "      <th>sepal width (cm)</th>\n",
       "      <th>petal length (cm)</th>\n",
       "      <th>petal width (cm)</th>\n",
       "      <th>species</th>\n",
       "    </tr>\n",
       "  </thead>\n",
       "  <tbody>\n",
       "    <tr>\n",
       "      <th>0</th>\n",
       "      <td>5.1</td>\n",
       "      <td>3.5</td>\n",
       "      <td>1.4</td>\n",
       "      <td>0.2</td>\n",
       "      <td>0</td>\n",
       "    </tr>\n",
       "    <tr>\n",
       "      <th>1</th>\n",
       "      <td>4.9</td>\n",
       "      <td>3.0</td>\n",
       "      <td>1.4</td>\n",
       "      <td>0.2</td>\n",
       "      <td>0</td>\n",
       "    </tr>\n",
       "    <tr>\n",
       "      <th>2</th>\n",
       "      <td>4.7</td>\n",
       "      <td>3.2</td>\n",
       "      <td>1.3</td>\n",
       "      <td>0.2</td>\n",
       "      <td>0</td>\n",
       "    </tr>\n",
       "    <tr>\n",
       "      <th>3</th>\n",
       "      <td>4.6</td>\n",
       "      <td>3.1</td>\n",
       "      <td>1.5</td>\n",
       "      <td>0.2</td>\n",
       "      <td>0</td>\n",
       "    </tr>\n",
       "    <tr>\n",
       "      <th>4</th>\n",
       "      <td>5.0</td>\n",
       "      <td>3.6</td>\n",
       "      <td>1.4</td>\n",
       "      <td>0.2</td>\n",
       "      <td>0</td>\n",
       "    </tr>\n",
       "  </tbody>\n",
       "</table>\n",
       "</div>"
      ],
      "text/plain": [
       "   sepal length (cm)  sepal width (cm)  petal length (cm)  petal width (cm)  \\\n",
       "0                5.1               3.5                1.4               0.2   \n",
       "1                4.9               3.0                1.4               0.2   \n",
       "2                4.7               3.2                1.3               0.2   \n",
       "3                4.6               3.1                1.5               0.2   \n",
       "4                5.0               3.6                1.4               0.2   \n",
       "\n",
       "   species  \n",
       "0        0  \n",
       "1        0  \n",
       "2        0  \n",
       "3        0  \n",
       "4        0  "
      ]
     },
     "execution_count": 29,
     "metadata": {},
     "output_type": "execute_result"
    }
   ],
   "source": [
    "from sklearn.datasets import load_iris # アイリスデータ\n",
    "from sklearn.model_selection import train_test_split # データ分割\n",
    "from sklearn.preprocessing import StandardScaler # 標準化\n",
    "from sklearn.neighbors import KNeighborsClassifier # 最近傍法\n",
    "from sklearn.metrics import accuracy_score # 正解率\n",
    "from sklearn.metrics import precision_score # 適合率\n",
    "from sklearn.metrics import recall_score # 再現率\n",
    "from sklearn.metrics import f1_score # F値\n",
    "from sklearn.metrics import confusion_matrix # 混合行列\n",
    "from matplotlib.colors import ListedColormap\n",
    "from sklearn.linear_model import LogisticRegression # ロジスティック回帰\n",
    "from sklearn.svm import SVC #SVC \n",
    "from sklearn.model_selection import cross_val_score # 決定木\n",
    "from sklearn.tree import DecisionTreeClassifier # 決定木\n",
    "from sklearn.ensemble import RandomForestClassifier # ランダムフォレスト\n",
    "from sklearn.datasets import make_classification # ランダムフォレスト\n",
    "\n",
    "import numpy as np\n",
    "import pandas as pd\n",
    "import matplotlib.pyplot as plt # グラフ描写のライブラリー\n",
    "import matplotlib.patches as mpatches # 【問題7】可視化\n",
    "import seaborn as sns # グラフ描写のライブラリー\n",
    "\n",
    "\n",
    "iris = load_iris()\n",
    "#pd.DataFrame(iris)\n",
    "df1 = pd.DataFrame(iris.data,columns=iris.feature_names)\n",
    "#print(iris.data.shape)\n",
    "df1[\"species\"] = iris.target\n",
    "#print(iris.data.shape)\n",
    "df1.head()"
   ]
  },
  {
   "cell_type": "code",
   "execution_count": 30,
   "metadata": {},
   "outputs": [
    {
     "data": {
      "text/html": [
       "<div>\n",
       "<style scoped>\n",
       "    .dataframe tbody tr th:only-of-type {\n",
       "        vertical-align: middle;\n",
       "    }\n",
       "\n",
       "    .dataframe tbody tr th {\n",
       "        vertical-align: top;\n",
       "    }\n",
       "\n",
       "    .dataframe thead th {\n",
       "        text-align: right;\n",
       "    }\n",
       "</style>\n",
       "<table border=\"1\" class=\"dataframe\">\n",
       "  <thead>\n",
       "    <tr style=\"text-align: right;\">\n",
       "      <th></th>\n",
       "      <th>sepal length (cm)</th>\n",
       "      <th>petal length (cm)</th>\n",
       "      <th>species</th>\n",
       "    </tr>\n",
       "  </thead>\n",
       "  <tbody>\n",
       "    <tr>\n",
       "      <th>50</th>\n",
       "      <td>7.0</td>\n",
       "      <td>4.7</td>\n",
       "      <td>1</td>\n",
       "    </tr>\n",
       "    <tr>\n",
       "      <th>51</th>\n",
       "      <td>6.4</td>\n",
       "      <td>4.5</td>\n",
       "      <td>1</td>\n",
       "    </tr>\n",
       "    <tr>\n",
       "      <th>52</th>\n",
       "      <td>6.9</td>\n",
       "      <td>4.9</td>\n",
       "      <td>1</td>\n",
       "    </tr>\n",
       "    <tr>\n",
       "      <th>53</th>\n",
       "      <td>5.5</td>\n",
       "      <td>4.0</td>\n",
       "      <td>1</td>\n",
       "    </tr>\n",
       "    <tr>\n",
       "      <th>54</th>\n",
       "      <td>6.5</td>\n",
       "      <td>4.6</td>\n",
       "      <td>1</td>\n",
       "    </tr>\n",
       "  </tbody>\n",
       "</table>\n",
       "</div>"
      ],
      "text/plain": [
       "    sepal length (cm)  petal length (cm)  species\n",
       "50                7.0                4.7        1\n",
       "51                6.4                4.5        1\n",
       "52                6.9                4.9        1\n",
       "53                5.5                4.0        1\n",
       "54                6.5                4.6        1"
      ]
     },
     "execution_count": 30,
     "metadata": {},
     "output_type": "execute_result"
    }
   ],
   "source": [
    "\n",
    "df2 = df1.loc[:,['sepal length (cm)','petal length (cm)', 'species']]\n",
    "df2 = df2[df2[\"species\"].isin([\"1\",\"2\"])]\n",
    "df2.head()"
   ]
  },
  {
   "cell_type": "code",
   "execution_count": 45,
   "metadata": {},
   "outputs": [
    {
     "data": {
      "text/plain": [
       "Text(0, 0.5, 'petal length (cm)')"
      ]
     },
     "execution_count": 45,
     "metadata": {},
     "output_type": "execute_result"
    },
    {
     "data": {
      "image/png": "[encoded data removed]",
      "text/plain": [
       "<Figure size 432x288 with 1 Axes>"
      ]
     },
     "metadata": {
      "needs_background": "light"
     },
     "output_type": "display_data"
    }
   ],
   "source": [
    "#種類で分ける\n",
    "iris_virgicolor = df2[df2[\"species\"] == 1]\n",
    "iris_virginica = df2[df2[\"species\"] == 2]\n",
    "#print(pd.DataFrame(iris_virginica))\n",
    "#scatterで散布図を作成\n",
    "plt.scatter(iris_virgicolor[\"sepal length (cm)\"],iris_virgicolor[\"petal length (cm)\"],c=\"pink\",label=\"virgicolor\")\n",
    "plt.scatter(iris_virginica[\"sepal length (cm)\"],iris_virginica[\"petal length (cm)\"],c=\"y\",label=\"virginica\")\n",
    "plt.xlabel(\"sepal length (cm)\")\n",
    "plt.ylabel(\"petal length (cm)\")\n",
    "\n"
   ]
  },
  {
   "cell_type": "code",
   "execution_count": 51,
   "metadata": {},
   "outputs": [
    {
     "data": {
      "text/plain": [
       "{'whiskers': [<matplotlib.lines.Line2D at 0x11f9549d0>,\n",
       "  <matplotlib.lines.Line2D at 0x11f954a10>,\n",
       "  <matplotlib.lines.Line2D at 0x11f915550>,\n",
       "  <matplotlib.lines.Line2D at 0x121964190>],\n",
       " 'caps': [<matplotlib.lines.Line2D at 0x11f844050>,\n",
       "  <matplotlib.lines.Line2D at 0x121964350>,\n",
       "  <matplotlib.lines.Line2D at 0x11f915f10>,\n",
       "  <matplotlib.lines.Line2D at 0x11f915890>],\n",
       " 'boxes': [<matplotlib.lines.Line2D at 0x11f954cd0>,\n",
       "  <matplotlib.lines.Line2D at 0x11f915a90>],\n",
       " 'medians': [<matplotlib.lines.Line2D at 0x121964c10>,\n",
       "  <matplotlib.lines.Line2D at 0x11c475190>],\n",
       " 'fliers': [<matplotlib.lines.Line2D at 0x121964950>,\n",
       "  <matplotlib.lines.Line2D at 0x11c007190>],\n",
       " 'means': []}"
      ]
     },
     "execution_count": 51,
     "metadata": {},
     "output_type": "execute_result"
    },
    {
     "data": {
      "image/png": "[encoded data removed]",
      "text/plain": [
       "<Figure size 720x288 with 1 Axes>"
      ]
     },
     "metadata": {
      "needs_background": "light"
     },
     "output_type": "display_data"
    }
   ],
   "source": [
    "#図のサイズ\n",
    "plt.subplots(figsize = (10,4))\n",
    "#出力位置指定\n",
    "plt.subplot(1,3,2)\n",
    "#ivirgicolorのsepalとpetalの箱ひげ\n",
    "plt.boxplot([iris_virgicolor[\"sepal length (cm)\"],iris_virgicolor[\"petal length (cm)\"]])"
   ]
  },
  {
   "cell_type": "code",
   "execution_count": 107,
   "metadata": {},
   "outputs": [],
   "source": [
    "#特徴と目的を分ける\n",
    "x =  df1.iloc[:,1:3]\n",
    "y = df1.iloc[:,4]\n",
    "#print(y)\n",
    "x_train,x_test,y_train,y_test = train_test_split(x,y,test_size=0.25,random_state=42)\n",
    "#y_train.shape"
   ]
  },
  {
   "cell_type": "code",
   "execution_count": 108,
   "metadata": {},
   "outputs": [
    {
     "name": "stdout",
     "output_type": "stream",
     "text": [
      "[[-0.71903739  0.58987181]\n",
      " [ 1.61629772 -1.03834577]\n",
      " [-1.18610441  1.78389803]\n",
      " [-0.48550388  0.48132397]\n",
      " [-0.71903739  0.64414573]\n",
      " [ 0.68216368 -1.14689361]\n",
      " [-0.48550388 -0.00714131]\n",
      " [-0.01843686  0.80696748]\n",
      " [-2.12023846  0.48132397]\n",
      " [-0.9525709   0.15568045]\n",
      " [ 0.21509665  0.80696748]\n",
      " [-0.25197037 -1.20116753]\n",
      " [ 0.91569719 -1.25544145]\n",
      " [-0.01843686 -1.14689361]\n",
      " [ 1.61629772 -1.14689361]\n",
      " [ 0.44863017  0.58987181]\n",
      " [-0.25197037  1.18688492]\n",
      " [-1.41963792  0.15568045]\n",
      " [-0.71903739  0.48132397]\n",
      " [-0.71903739  1.07833708]\n",
      " [ 0.21509665 -1.09261969]\n",
      " [-0.25197037  0.69841965]\n",
      " [ 0.68216368 -1.09261969]\n",
      " [-0.71903739  1.07833708]\n",
      " [ 1.61629772  1.51252844]\n",
      " [-0.25197037  0.8612414 ]\n",
      " [-1.41963792  1.18688492]\n",
      " [ 0.21509665  1.24115884]\n",
      " [-0.25197037 -1.20116753]\n",
      " [-0.01843686 -1.09261969]\n",
      " [ 1.1492307  -1.41826321]\n",
      " [ 3.01749879 -1.14689361]\n",
      " [-0.01843686  0.42705005]\n",
      " [ 0.68216368 -1.09261969]\n",
      " [ 0.21509665 -1.25544145]\n",
      " [-1.41963792  0.75269356]\n",
      " [ 0.21509665  0.48132397]\n",
      " [ 0.91569719 -1.14689361]]\n"
     ]
    }
   ],
   "source": [
    "\n",
    "# fit_transform で標準化している。\n",
    "sc = StandardScaler()\n",
    "x_tr_sc = sc.fit_transform(x_train)\n",
    "#print(x_tr_sc)\n",
    "# X_tr_fit_form = scaler.transform(X_tr_fit)\n",
    "x_te_sc = sc.fit_transform(x_test)\n",
    "print(x_te_sc)"
   ]
  },
  {
   "cell_type": "code",
   "execution_count": 110,
   "metadata": {},
   "outputs": [
    {
     "name": "stdout",
     "output_type": "stream",
     "text": [
      "KNeighborsClassifier(algorithm='auto', leaf_size=30, metric='minkowski',\n",
      "                     metric_params=None, n_jobs=None, n_neighbors=5, p=2,\n",
      "                     weights='uniform')\n",
      "0.34210526315789475\n",
      "0.3157894736842105\n",
      "0.3157894736842105\n"
     ]
    }
   ],
   "source": [
    "#定型でこうすることで、学習を行う\n",
    "#モデルのインスタンスを作る\n",
    "knn_5 = KNeighborsClassifier(n_neighbors=5) # 学習したモデルのインスタンス。model ： object 可視化の時に使用する\n",
    "print(knn_5)\n",
    "knn_5_fit = knn_5.fit(x_tr_sc,y_train)\n",
    "y_pred_knn5 = knn_5_fit.predict(x_te_sc)\n",
    "#print(y_pred_knn5)\n",
    "score = knn_5.score(x_test,y_test)\n",
    "print(score)\n",
    "\n",
    "knn_1 = KNeighborsClassifier(n_neighbors=1)\n",
    "knn_1_fit = knn_1.fit(x_tr_sc,y_train)\n",
    "y_pred_knn1 = knn_1_fit.predict(x_te_sc)\n",
    "#print(y_pred_knn1)\n",
    "score = knn_1.score(x_test,y_test)\n",
    "print(score)\n",
    "\n",
    "knn_3 = KNeighborsClassifier(n_neighbors=3)\n",
    "knn_3_fit = knn_3.fit(x_tr_sc,y_train)\n",
    "y_pred_knn3 = knn_3_fit.predict(x_te_sc)\n",
    "score = knn_3.score(x_test,y_test)\n",
    "print(score)"
   ]
  },
  {
   "cell_type": "code",
   "execution_count": null,
   "metadata": {},
   "outputs": [],
   "source": []
  },
  {
   "cell_type": "markdown",
   "metadata": {},
   "source": [
    "ロジスティック"
   ]
  },
  {
   "cell_type": "code",
   "execution_count": 123,
   "metadata": {},
   "outputs": [
    {
     "name": "stdout",
     "output_type": "stream",
     "text": [
      "0.3157894736842105\n"
     ]
    }
   ],
   "source": [
    "\n",
    "\n",
    "clf = LogisticRegression(random_state=0,solver='lbfgs',multi_class='multinomial')\n",
    "clf.fit(x_tr_sc,y_train)\n",
    "clf.predict(x_te_sc)\n",
    "l_score = clf.score(x_test,y_test)\n",
    "print(l_score)"
   ]
  },
  {
   "cell_type": "code",
   "execution_count": 129,
   "metadata": {},
   "outputs": [
    {
     "name": "stdout",
     "output_type": "stream",
     "text": [
      "0.9210526315789473\n",
      "0.9333333333333332\n"
     ]
    }
   ],
   "source": [
    "# 正解率,falseにすると数値が変わる\n",
    "print(accuracy_score(y_test,y_pred_knn5,normalize=True))\n",
    "#適合率\n",
    "print(precision_score(y_test,y_pred_knn5,average='macro'))\n"
   ]
  },
  {
   "cell_type": "markdown",
   "metadata": {},
   "source": [
    "正解率 (Accuracy)\n",
    "この指標自体を精度という場合もあります*3。 予測結果全体と、答えがどれぐらい一致しているかを判断する指標。計算式は下記を参照。 一見優れた指標に見えますが、発表スライドにもある通り、正解データの正が1%で負が99%のような場合、すべてのデータを不正解と予測するデータがある場合、99%の精度 を持つモデルと評価されてしまいます。これではよいモデルとは言えないので下記の指標を併せて使う場合が多いです。\n",
    "\n",
    "適合率 (Precision)\n",
    "偽陽性を低く抑えることを目的とする場合には適合率が高いモデルを採用します。犯罪の検挙を例にすると、一般市民を冤罪で逮捕してしまう率を低く抑えることができます。しかし、逆に真犯人を見つける確率も下がる場合もあります。\n",
    "\n",
    "再現率 (Recall)\n",
    "偽陰性を低く抑えたい場合に採用する指標です。\n",
    "\n",
    "F値 (F-measure, F-score)\n",
    "適合率と再現率はトレードオフの関係にある(どちらかが高くなるとどちらかが低くなる)ので調和平均をとった指標です。"
   ]
  },
  {
   "cell_type": "code",
   "execution_count": null,
   "metadata": {},
   "outputs": [],
   "source": [
    "import matplotlib.pyplot as plt\n",
    "from matplotlib.colors import ListedColormap\n",
    "import matplotlib.patches as mpatches\n",
    "def decision_region(X, y, model, step=0.01, title='decision region', xlabel='xlabel', ylabel='ylabel', target_names=['versicolor', 'virginica']):\n",
    "\n",
    "    \n",
    "    "
   ]
  }
 ],
 "metadata": {
  "kernelspec": {
   "display_name": "Python 3",
   "language": "python",
   "name": "python3"
  },
  "language_info": {
   "codemirror_mode": {
    "name": "ipython",
    "version": 3
   },
   "file_extension": ".py",
   "mimetype": "text/x-python",
   "name": "python",
   "nbconvert_exporter": "python",
   "pygments_lexer": "ipython3",
   "version": "3.7.4"
  }
 },
 "nbformat": 4,
 "nbformat_minor": 2
}
