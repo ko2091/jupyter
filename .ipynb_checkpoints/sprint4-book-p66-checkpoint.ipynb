{
 "cells": [
  {
   "cell_type": "markdown",
   "metadata": {},
   "source": [
    "本に書いてあったやつ"
   ]
  },
  {
   "cell_type": "code",
   "execution_count": 119,
   "metadata": {},
   "outputs": [],
   "source": [
    "import numpy as np\n",
    "import matplotlib.pyplot as plt\n",
    "\n",
    "from matplotlib.colors import ListedColormap\n",
    "import matplotlib.patches as mpatches\n",
    "\n",
    "from sklearn.datasets import load_iris\n",
    "\n",
    "from sklearn.metrics import accuracy_score\n",
    "from sklearn.metrics import precision_score\n",
    "from sklearn.metrics import recall_score\n",
    "from sklearn.metrics import f1_score\n",
    "from sklearn.metrics import confusion_matrix\n",
    "\n",
    "from sklearn.linear_model import LogisticRegression\n",
    "\n",
    "from tempfile import TemporaryFile\n",
    "class LogicRegressionGD(object):\n",
    "    \"\"\"\n",
    "    パラメタ\n",
    "    eta:float 学習率\n",
    "    n_iter:int トレーニング回数\n",
    "    ramdom_state:int 重みを初期化する乱数シード\n",
    "    \n",
    "    属性\n",
    "    w_１次配列　適合後の重み\n",
    "    cost_ : リスト　各エポックでの誤差平方和コスト関数\n",
    "    \n",
    "    \"\"\"\n",
    "    \n",
    "    def __init__(self,eta = 0.01,n_iter = 1000,random_state=1):\n",
    "        self.eta = eta\n",
    "        self.n_iter = n_iter\n",
    "        self.random_state = random_state\n",
    "        \n",
    "    def fit(self,X,y):\n",
    "        \"\"\"\n",
    "        パラメタ\n",
    "        X 配列　形は{n_sample,n_featuers}\n",
    "        サンプルはサンプルの個数でようはトレーニングデータ\n",
    "        y 配列のようなデータ構造、shape = {n_sample}\n",
    "        目的変数\n",
    "        \n",
    "        戻り値\n",
    "        self:object\n",
    "        \"\"\"\n",
    "        # np.random.randomstateで同じ乱数になるようにシードで固定し、rgenにインスタンス化\n",
    "        rgen = np.random.RandomState(self.random_state)\n",
    "        #normalで正規分布に従う乱数を作成shape[1]は列の数\n",
    "        self.w_ = rgen.normal(loc=0.0,scale=0.01,size=1+X.shape[1])\n",
    "       # print(self.w_)\n",
    "        self.cost_ = []\n",
    "        \n",
    "        for i in range(self.n_iter):\n",
    "                net_input = self.net_input(X)\n",
    "                output = self.activation(net_input)\n",
    "                erros = (y - output)\n",
    "                self.w_[1:] += self.eta * X.T.dot(erros)\n",
    "                self.w_[0] += self.eta * erros.sum()\n",
    "                #\n",
    "                cost = -y.dot(np.log(output)) -((1-y).dot(np.log(1-output)))\n",
    "                #costを追加する\n",
    "                self.cost_.append(cost)\n",
    "            \n",
    "        return self\n",
    "    \n",
    "    def net_input(self,X):\n",
    "        #総入力を計算\n",
    "        return np.dot(X,self.w_[1:]) + self.w_[0]\n",
    "    \n",
    "    def activation(self,z):\n",
    "        return 1. /(1. + np.exp(-np.clip(z,-250,250)))\n",
    "    \n",
    "    def predict(self,X):\n",
    "        return np.where(self.net_input(X) >= 0.0,1,0)\n",
    "    \n",
    "    "
   ]
  },
  {
   "cell_type": "code",
   "execution_count": 120,
   "metadata": {},
   "outputs": [
    {
     "name": "stdout",
     "output_type": "stream",
     "text": [
      "[ 0.01624345 -0.00611756 -0.00528172 -0.01072969  0.00865408 -0.02301539\n",
      "  0.01744812 -0.00761207  0.00319039 -0.0024937   0.01462108 -0.02060141\n",
      " -0.00322417 -0.00384054  0.01133769 -0.01099891 -0.00172428 -0.00877858\n",
      "  0.00042214  0.00582815 -0.01100619  0.01144724  0.00901591  0.00502494\n",
      "  0.00900856 -0.00683728 -0.0012289  -0.00935769 -0.00267888  0.00530355\n",
      " -0.00691661 -0.00396754 -0.00687173 -0.00845206 -0.00671246 -0.00012665\n",
      " -0.0111731   0.00234416  0.01659802  0.00742044 -0.00191836 -0.00887629\n",
      " -0.00747158  0.01692455]\n"
     ]
    }
   ],
   "source": [
    "    rgen = np.random.RandomState(1)\n",
    "    w = rgen.normal(loc=0.0,scale=0.01,size=44)\n",
    "    print(w)"
   ]
  },
  {
   "cell_type": "code",
   "execution_count": 121,
   "metadata": {},
   "outputs": [
    {
     "name": "stdout",
     "output_type": "stream",
     "text": [
      "nothing\n",
      "examine1\n",
      "examine2\n"
     ]
    }
   ],
   "source": [
    "class Test(object):\n",
    "    def __init__(self):\n",
    "        self.i_var = \"nothing\"\n",
    "        self.a = \"1\"\n",
    "    def __str__(self):\n",
    "        return self.i_var\n",
    "\n",
    "    def examine1(self):\n",
    "        self.b = \"3\"\n",
    "        self.i_var = \"examine1\"\n",
    "        self.a = \"2\"\n",
    "        return self\n",
    "\n",
    "    def examine2(self):\n",
    "        self.i_var = \"examine2\"\n",
    "        return self\n",
    "\n",
    "t1 = Test()\n",
    "print(t1)\n",
    "print(t1.examine1())\n",
    "print(t1.examine2())"
   ]
  },
  {
   "cell_type": "code",
   "execution_count": 124,
   "metadata": {},
   "outputs": [
    {
     "name": "stdout",
     "output_type": "stream",
     "text": [
      "[0 0 1 1 0 0 1 1 1 1 0 1 0 0 0 1 0 0 0 1 0 1 0 1 0 1 1 1 0 1 0 0 1 1 0 0 0\n",
      " 1 1 1 1 0 0 0 0 0 1 0 0 1 1 1 0 1 1 1 1 0 1 1 0 1 0 1 0 0 1 1 1 1 0 1 0 1]\n"
     ]
    },
    {
     "name": "stderr",
     "output_type": "stream",
     "text": [
      "/usr/local/lib/python3.7/site-packages/ipykernel_launcher.py:61: RuntimeWarning: divide by zero encountered in log\n"
     ]
    },
    {
     "data": {
      "image/png": "[encoded data removed]",
      "text/plain": [
       "<Figure size 432x288 with 1 Axes>"
      ]
     },
     "metadata": {
      "needs_background": "light"
     },
     "output_type": "display_data"
    }
   ],
   "source": [
    "from sklearn.model_selection import train_test_split\n",
    "# データセットのロード（ダウンロード？）\n",
    "from sklearn.datasets import load_iris # sklearn.datasets を load_iris という変数で取得\n",
    "import matplotlib.pyplot as plt # グラフ描写のライブラリー\n",
    "import matplotlib.patches as mpatches # 可視化\n",
    "import seaborn as sns # グラフ描写のライブラリー\n",
    "from matplotlib.colors import ListedColormap # マップ\n",
    "from mlxtend.plotting import plot_decision_regions\n",
    "import matplotlib.pyplot as plt\n",
    "from sklearn import datasets\n",
    "from sklearn.svm import SVC\n",
    "import pandas as pd\n",
    "import numpy as np\n",
    "iris = datasets.load_iris() # load_iris\n",
    "\n",
    "#df = pd.read_csv('https://archive.ics.uci.edu/ml/machine-learning-databases/iris/iris.data',header=None)\n",
    "#df.tail()\n",
    "X = iris.data[:,[2,3]]\n",
    "\n",
    "y = iris.target\n",
    "\n",
    "\n",
    "X_train,X_test,y_train,y_test = train_test_split(X,y,test_size=0.25,random_state=42)\n",
    "\n",
    "X_train_01_subset = X_train[(y_train == 1) | (y_train ==0)]\n",
    "y_train_01_subset = y_train[(y_train == 1) | (y_train ==0)]\n",
    "print(y_train_01_subset)\n",
    "lrgd = LogicRegressionGD(eta=0.05,n_iter=100,random_state=1)\n",
    "lrgd.fit(X_train_01_subset,y_train_01_subset)\n",
    "\n",
    "plot_decision_regions(X_train_01_subset,y_train_01_subset,clf=lrgd)\n",
    "plt.tight_layout()\n",
    "plt.show()\n"
   ]
  },
  {
   "cell_type": "code",
   "execution_count": 125,
   "metadata": {},
   "outputs": [
    {
     "data": {
      "text/plain": [
       "array([0, 0, 0, 0, 0, 0, 0, 0, 0, 0, 0, 0, 0, 0, 0, 0, 0, 0, 0, 0, 0, 0,\n",
       "       0, 0, 0, 0, 0, 0, 0, 0, 0, 0, 0, 0, 0, 0, 0, 0, 0, 0, 0, 0, 0, 0,\n",
       "       0, 0, 0, 0, 0, 0, 1, 1, 1, 1, 1, 1, 1, 1, 1, 1, 1, 1, 1, 1, 1, 1,\n",
       "       1, 1, 1, 1, 1, 1, 1, 1, 1, 1, 1, 1, 1, 1, 1, 1, 1, 1, 1, 1, 1, 1,\n",
       "       1, 1, 1, 1, 1, 1, 1, 1, 1, 1, 1, 1, 2, 2, 2, 2, 2, 2, 2, 2, 2, 2,\n",
       "       2, 2, 2, 2, 2, 2, 2, 2, 2, 2, 2, 2, 2, 2, 2, 2, 2, 2, 2, 2, 2, 2,\n",
       "       2, 2, 2, 2, 2, 2, 2, 2, 2, 2, 2, 2, 2, 2, 2, 2, 2, 2])"
      ]
     },
     "execution_count": 125,
     "metadata": {},
     "output_type": "execute_result"
    }
   ],
   "source": [
    "iris.target"
   ]
  },
  {
   "cell_type": "code",
   "execution_count": null,
   "metadata": {},
   "outputs": [],
   "source": []
  }
 ],
 "metadata": {
  "kernelspec": {
   "display_name": "Python 3",
   "language": "python",
   "name": "python3"
  },
  "language_info": {
   "codemirror_mode": {
    "name": "ipython",
    "version": 3
   },
   "file_extension": ".py",
   "mimetype": "text/x-python",
   "name": "python",
   "nbconvert_exporter": "python",
   "pygments_lexer": "ipython3",
   "version": "3.7.4"
  }
 },
 "nbformat": 4,
 "nbformat_minor": 2
}
