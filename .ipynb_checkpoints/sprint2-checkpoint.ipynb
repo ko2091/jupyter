{
 "cells": [
  {
   "cell_type": "code",
   "execution_count": 36,
   "metadata": {},
   "outputs": [],
   "source": [
    "def scratch_train_test_split(X, y, train_size=0.8,):\n",
    "    \"\"\"\n",
    "    検証用データを分割する。\n",
    "\n",
    "    Parameters\n",
    "    ----------\n",
    "    X : 次の形のndarray, shape (n_samples, n_features)\n",
    "      学習データ\n",
    "    y : 次の形のndarray, shape (n_samples, )\n",
    "      正解値\n",
    "    train_size : float (0<train_size<1)\n",
    "      何割をtrainとするか指定\n",
    "\n",
    "    Returns\n",
    "    ----------\n",
    "    X_train : 次の形のndarray, shape (n_samples, n_features)\n",
    "      学習データ\n",
    "    X_test : 次の形のndarray, shape (n_samples, n_features)\n",
    "      検証データ\n",
    "    y_train : 次の形のndarray, shape (n_samples, )\n",
    "      学習データの正解値\n",
    "    y_test : 次の形のndarray, shape (n_samples, )\n",
    "      検証データの正解値\n",
    "    \"\"\"\n",
    "    #ここにコードを書く\n",
    "    \n",
    "#まずは引数に応じてデータを分ける処理、xとyの対応関係を保つ、分ける方法をランダムにする\n",
    "\n",
    "    #Xの列の数カケル0.8した数がxtrainで残りがtestになる\n",
    "    #len(X)でXの行数を出してそれとサイズをかけるxとyの行数は同じになるはず\n",
    "    #xの長さカケルさいずで2.１とかフロートになると困るので整数にする\n",
    "    split_num = int(len(X)*train_size)\n",
    "    #xとyをrandom.sampleでランダムにlistにして\n",
    "    #スライスで初めから分け目のところまでと分け目から最後までを指定\n",
    "    X_train = X[:split_num]\n",
    "    X_test = X[split_num:]\n",
    "    y_train = y[:split_num]\n",
    "    y_test = y[split_num:]\n",
    "    print(train_size)\n",
    "    return X_train, X_test, y_train, y_test"
   ]
  },
  {
   "cell_type": "code",
   "execution_count": 46,
   "metadata": {},
   "outputs": [
    {
     "name": "stdout",
     "output_type": "stream",
     "text": [
      "0.8\n"
     ]
    }
   ],
   "source": [
    "result = scratch_train_test_split(X,y)"
   ]
  },
  {
   "cell_type": "code",
   "execution_count": null,
   "metadata": {},
   "outputs": [],
   "source": []
  },
  {
   "cell_type": "code",
   "execution_count": 107,
   "metadata": {
    "collapsed": true
   },
   "outputs": [
    {
     "name": "stdout",
     "output_type": "stream",
     "text": [
      "50     1\n",
      "51     1\n",
      "52     1\n",
      "53     1\n",
      "54     1\n",
      "      ..\n",
      "145    2\n",
      "146    2\n",
      "147    2\n",
      "148    2\n",
      "149    2\n",
      "Name: species, Length: 100, dtype: int64\n"
     ]
    }
   ],
   "source": [
    "from sklearn.datasets import load_iris\n",
    "import seaborn as sns\n",
    "import numpy as np #numpyという行列などを扱うライブラリを利用\n",
    "import pandas as pd #pandasというデータ分析ライブラリを利用\n",
    "import matplotlib.pyplot as plt #プロット用のライブラリを利用\n",
    "from sklearn import linear_model, metrics, preprocessing #機械学習用のライブラリを利用\n",
    "from sklearn.linear_model import SGDClassifier\n",
    "from sklearn.tree import DecisionTreeClassifier\n",
    "from sklearn.svm import SVC\n",
    "from sklearn.linear_model import SGDRegressor\n",
    "from sklearn.model_selection import train_test_split\n",
    "\n",
    "data_iris = load_iris()\n",
    "data = pd.DataFrame(data_iris.data, columns=data_iris.feature_names)\n",
    "data[\"species\"] = data_iris.target\n",
    "#print(data)\n",
    "\n",
    "\n",
    "data = data[data[\"species\"].isin([\"1\", \"2\"])]\n",
    "x = data.iloc[:,1:3]\n",
    "y = data.iloc[:,4]\n",
    "#y = data[\"species\"]\n",
    "print(y)\n",
    "\n",
    "x_train,x_test,y_train,y_test = train_test_split(x,y,test_size=0.25 )\n",
    "\n",
    "#plt.plot(x[y==1,3], x[y==1,2], \"o\")\n",
    "#plt.plot(x[y==2,3], x[y==2,2], \"x\")"
   ]
  },
  {
   "cell_type": "code",
   "execution_count": 112,
   "metadata": {},
   "outputs": [],
   "source": [
    "SGD = SGDClassifier(loss=\"log\")\n",
    "SGD.fit(x_train,y_train)\n",
    "y_SGD  = SGD.predict(x_test)\n"
   ]
  },
  {
   "cell_type": "code",
   "execution_count": null,
   "metadata": {},
   "outputs": [],
   "source": []
  }
 ],
 "metadata": {
  "kernelspec": {
   "display_name": "Python 3",
   "language": "python",
   "name": "python3"
  },
  "language_info": {
   "codemirror_mode": {
    "name": "ipython",
    "version": 3
   },
   "file_extension": ".py",
   "mimetype": "text/x-python",
   "name": "python",
   "nbconvert_exporter": "python",
   "pygments_lexer": "ipython3",
   "version": "3.7.4"
  }
 },
 "nbformat": 4,
 "nbformat_minor": 2
}
